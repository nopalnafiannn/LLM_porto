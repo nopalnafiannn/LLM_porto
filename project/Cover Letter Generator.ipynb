{
 "cells": [
  {
   "cell_type": "code",
   "execution_count": 7,
   "id": "2f376a10-b79a-4d95-bff2-0ec4e3351706",
   "metadata": {},
   "outputs": [
    {
     "name": "stdout",
     "output_type": "stream",
     "text": [
      "Requirement already satisfied: gradio in /opt/anaconda3/envs/llms/lib/python3.11/site-packages (5.12.0)\n",
      "Requirement already satisfied: openai in /opt/anaconda3/envs/llms/lib/python3.11/site-packages (1.59.7)\n",
      "Requirement already satisfied: pytesseract in /opt/anaconda3/envs/llms/lib/python3.11/site-packages (0.3.13)\n",
      "Requirement already satisfied: PyPDF2 in /opt/anaconda3/envs/llms/lib/python3.11/site-packages (3.0.1)\n",
      "Requirement already satisfied: pdf2image in /opt/anaconda3/envs/llms/lib/python3.11/site-packages (1.17.0)\n",
      "Requirement already satisfied: pillow in /opt/anaconda3/envs/llms/lib/python3.11/site-packages (11.1.0)\n",
      "Requirement already satisfied: aiofiles<24.0,>=22.0 in /opt/anaconda3/envs/llms/lib/python3.11/site-packages (from gradio) (23.2.1)\n",
      "Requirement already satisfied: anyio<5.0,>=3.0 in /opt/anaconda3/envs/llms/lib/python3.11/site-packages (from gradio) (4.8.0)\n",
      "Requirement already satisfied: fastapi<1.0,>=0.115.2 in /opt/anaconda3/envs/llms/lib/python3.11/site-packages (from gradio) (0.115.6)\n",
      "Requirement already satisfied: ffmpy in /opt/anaconda3/envs/llms/lib/python3.11/site-packages (from gradio) (0.5.0)\n",
      "Requirement already satisfied: gradio-client==1.5.4 in /opt/anaconda3/envs/llms/lib/python3.11/site-packages (from gradio) (1.5.4)\n",
      "Requirement already satisfied: httpx>=0.24.1 in /opt/anaconda3/envs/llms/lib/python3.11/site-packages (from gradio) (0.27.2)\n",
      "Requirement already satisfied: huggingface-hub>=0.25.1 in /opt/anaconda3/envs/llms/lib/python3.11/site-packages (from gradio) (0.27.1)\n",
      "Requirement already satisfied: jinja2<4.0 in /opt/anaconda3/envs/llms/lib/python3.11/site-packages (from gradio) (3.1.5)\n",
      "Requirement already satisfied: markupsafe~=2.0 in /opt/anaconda3/envs/llms/lib/python3.11/site-packages (from gradio) (2.1.5)\n",
      "Requirement already satisfied: numpy<3.0,>=1.0 in /opt/anaconda3/envs/llms/lib/python3.11/site-packages (from gradio) (1.26.4)\n",
      "Requirement already satisfied: orjson~=3.0 in /opt/anaconda3/envs/llms/lib/python3.11/site-packages (from gradio) (3.10.14)\n",
      "Requirement already satisfied: packaging in /opt/anaconda3/envs/llms/lib/python3.11/site-packages (from gradio) (24.2)\n",
      "Requirement already satisfied: pandas<3.0,>=1.0 in /opt/anaconda3/envs/llms/lib/python3.11/site-packages (from gradio) (2.2.3)\n",
      "Requirement already satisfied: pydantic>=2.0 in /opt/anaconda3/envs/llms/lib/python3.11/site-packages (from gradio) (2.10.5)\n",
      "Requirement already satisfied: pydub in /opt/anaconda3/envs/llms/lib/python3.11/site-packages (from gradio) (0.25.1)\n",
      "Requirement already satisfied: python-multipart>=0.0.18 in /opt/anaconda3/envs/llms/lib/python3.11/site-packages (from gradio) (0.0.20)\n",
      "Requirement already satisfied: pyyaml<7.0,>=5.0 in /opt/anaconda3/envs/llms/lib/python3.11/site-packages (from gradio) (6.0.2)\n",
      "Requirement already satisfied: ruff>=0.2.2 in /opt/anaconda3/envs/llms/lib/python3.11/site-packages (from gradio) (0.9.1)\n",
      "Requirement already satisfied: safehttpx<0.2.0,>=0.1.6 in /opt/anaconda3/envs/llms/lib/python3.11/site-packages (from gradio) (0.1.6)\n",
      "Requirement already satisfied: semantic-version~=2.0 in /opt/anaconda3/envs/llms/lib/python3.11/site-packages (from gradio) (2.10.0)\n",
      "Requirement already satisfied: starlette<1.0,>=0.40.0 in /opt/anaconda3/envs/llms/lib/python3.11/site-packages (from gradio) (0.41.3)\n",
      "Requirement already satisfied: tomlkit<0.14.0,>=0.12.0 in /opt/anaconda3/envs/llms/lib/python3.11/site-packages (from gradio) (0.13.2)\n",
      "Requirement already satisfied: typer<1.0,>=0.12 in /opt/anaconda3/envs/llms/lib/python3.11/site-packages (from gradio) (0.15.1)\n",
      "Requirement already satisfied: typing-extensions~=4.0 in /opt/anaconda3/envs/llms/lib/python3.11/site-packages (from gradio) (4.12.2)\n",
      "Requirement already satisfied: uvicorn>=0.14.0 in /opt/anaconda3/envs/llms/lib/python3.11/site-packages (from gradio) (0.34.0)\n",
      "Requirement already satisfied: fsspec in /opt/anaconda3/envs/llms/lib/python3.11/site-packages (from gradio-client==1.5.4->gradio) (2024.9.0)\n",
      "Requirement already satisfied: websockets<15.0,>=10.0 in /opt/anaconda3/envs/llms/lib/python3.11/site-packages (from gradio-client==1.5.4->gradio) (14.1)\n",
      "Requirement already satisfied: distro<2,>=1.7.0 in /opt/anaconda3/envs/llms/lib/python3.11/site-packages (from openai) (1.9.0)\n",
      "Requirement already satisfied: jiter<1,>=0.4.0 in /opt/anaconda3/envs/llms/lib/python3.11/site-packages (from openai) (0.8.2)\n",
      "Requirement already satisfied: sniffio in /opt/anaconda3/envs/llms/lib/python3.11/site-packages (from openai) (1.3.1)\n",
      "Requirement already satisfied: tqdm>4 in /opt/anaconda3/envs/llms/lib/python3.11/site-packages (from openai) (4.67.1)\n",
      "Requirement already satisfied: idna>=2.8 in /opt/anaconda3/envs/llms/lib/python3.11/site-packages (from anyio<5.0,>=3.0->gradio) (3.10)\n",
      "Requirement already satisfied: certifi in /opt/anaconda3/envs/llms/lib/python3.11/site-packages (from httpx>=0.24.1->gradio) (2024.12.14)\n",
      "Requirement already satisfied: httpcore==1.* in /opt/anaconda3/envs/llms/lib/python3.11/site-packages (from httpx>=0.24.1->gradio) (1.0.7)\n",
      "Requirement already satisfied: h11<0.15,>=0.13 in /opt/anaconda3/envs/llms/lib/python3.11/site-packages (from httpcore==1.*->httpx>=0.24.1->gradio) (0.14.0)\n",
      "Requirement already satisfied: filelock in /opt/anaconda3/envs/llms/lib/python3.11/site-packages (from huggingface-hub>=0.25.1->gradio) (3.16.1)\n",
      "Requirement already satisfied: requests in /opt/anaconda3/envs/llms/lib/python3.11/site-packages (from huggingface-hub>=0.25.1->gradio) (2.32.3)\n",
      "Requirement already satisfied: python-dateutil>=2.8.2 in /opt/anaconda3/envs/llms/lib/python3.11/site-packages (from pandas<3.0,>=1.0->gradio) (2.9.0.post0)\n",
      "Requirement already satisfied: pytz>=2020.1 in /opt/anaconda3/envs/llms/lib/python3.11/site-packages (from pandas<3.0,>=1.0->gradio) (2024.1)\n",
      "Requirement already satisfied: tzdata>=2022.7 in /opt/anaconda3/envs/llms/lib/python3.11/site-packages (from pandas<3.0,>=1.0->gradio) (2024.2)\n",
      "Requirement already satisfied: annotated-types>=0.6.0 in /opt/anaconda3/envs/llms/lib/python3.11/site-packages (from pydantic>=2.0->gradio) (0.7.0)\n",
      "Requirement already satisfied: pydantic-core==2.27.2 in /opt/anaconda3/envs/llms/lib/python3.11/site-packages (from pydantic>=2.0->gradio) (2.27.2)\n",
      "Requirement already satisfied: click>=8.0.0 in /opt/anaconda3/envs/llms/lib/python3.11/site-packages (from typer<1.0,>=0.12->gradio) (8.1.8)\n",
      "Requirement already satisfied: shellingham>=1.3.0 in /opt/anaconda3/envs/llms/lib/python3.11/site-packages (from typer<1.0,>=0.12->gradio) (1.5.4)\n",
      "Requirement already satisfied: rich>=10.11.0 in /opt/anaconda3/envs/llms/lib/python3.11/site-packages (from typer<1.0,>=0.12->gradio) (13.9.4)\n",
      "Requirement already satisfied: six>=1.5 in /opt/anaconda3/envs/llms/lib/python3.11/site-packages (from python-dateutil>=2.8.2->pandas<3.0,>=1.0->gradio) (1.17.0)\n",
      "Requirement already satisfied: markdown-it-py>=2.2.0 in /opt/anaconda3/envs/llms/lib/python3.11/site-packages (from rich>=10.11.0->typer<1.0,>=0.12->gradio) (3.0.0)\n",
      "Requirement already satisfied: pygments<3.0.0,>=2.13.0 in /opt/anaconda3/envs/llms/lib/python3.11/site-packages (from rich>=10.11.0->typer<1.0,>=0.12->gradio) (2.19.1)\n",
      "Requirement already satisfied: charset_normalizer<4,>=2 in /opt/anaconda3/envs/llms/lib/python3.11/site-packages (from requests->huggingface-hub>=0.25.1->gradio) (3.4.1)\n",
      "Requirement already satisfied: urllib3<3,>=1.21.1 in /opt/anaconda3/envs/llms/lib/python3.11/site-packages (from requests->huggingface-hub>=0.25.1->gradio) (2.3.0)\n",
      "Requirement already satisfied: mdurl~=0.1 in /opt/anaconda3/envs/llms/lib/python3.11/site-packages (from markdown-it-py>=2.2.0->rich>=10.11.0->typer<1.0,>=0.12->gradio) (0.1.2)\n",
      "Note: you may need to restart the kernel to use updated packages.\n"
     ]
    }
   ],
   "source": [
    "pip install gradio openai pytesseract PyPDF2 pdf2image pillow"
   ]
  },
  {
   "cell_type": "code",
   "execution_count": 8,
   "id": "9219f9cf-31f9-4bab-934f-ec19b4ecb102",
   "metadata": {},
   "outputs": [
    {
     "name": "stdout",
     "output_type": "stream",
     "text": [
      "Requirement already satisfied: python-docx in /opt/anaconda3/envs/llms/lib/python3.11/site-packages (1.1.2)\n",
      "Requirement already satisfied: lxml>=3.1.0 in /opt/anaconda3/envs/llms/lib/python3.11/site-packages (from python-docx) (5.3.0)\n",
      "Requirement already satisfied: typing-extensions>=4.9.0 in /opt/anaconda3/envs/llms/lib/python3.11/site-packages (from python-docx) (4.12.2)\n",
      "Note: you may need to restart the kernel to use updated packages.\n"
     ]
    }
   ],
   "source": [
    "pip install python-docx"
   ]
  },
  {
   "cell_type": "code",
   "execution_count": 9,
   "id": "1f324916-525f-465c-b659-99d2946ed0e0",
   "metadata": {},
   "outputs": [
    {
     "name": "stdout",
     "output_type": "stream",
     "text": [
      "Requirement already satisfied: fpdf2 in /opt/anaconda3/envs/llms/lib/python3.11/site-packages (2.8.2)\n",
      "Requirement already satisfied: defusedxml in /opt/anaconda3/envs/llms/lib/python3.11/site-packages (from fpdf2) (0.7.1)\n",
      "Requirement already satisfied: Pillow!=9.2.*,>=6.2.2 in /opt/anaconda3/envs/llms/lib/python3.11/site-packages (from fpdf2) (11.1.0)\n",
      "Requirement already satisfied: fonttools>=4.34.0 in /opt/anaconda3/envs/llms/lib/python3.11/site-packages (from fpdf2) (4.55.3)\n",
      "Note: you may need to restart the kernel to use updated packages.\n"
     ]
    }
   ],
   "source": [
    "pip install fpdf2"
   ]
  },
  {
   "cell_type": "code",
   "execution_count": 28,
   "id": "b5891a28-6406-4902-bf4a-53a998f959fe",
   "metadata": {},
   "outputs": [
    {
     "name": "stdout",
     "output_type": "stream",
     "text": [
      "\u001b[31mERROR: Could not find a version that satisfies the requirement deepseek-api (from versions: none)\u001b[0m\u001b[31m\n",
      "\u001b[0m\u001b[31mERROR: No matching distribution found for deepseek-api\u001b[0m\u001b[31m\n",
      "Note: you may need to restart the kernel to use updated packages.\n"
     ]
    }
   ],
   "source": []
  },
  {
   "cell_type": "code",
   "execution_count": 29,
   "id": "4c492e6d-4d11-4d4a-be15-d735b3d22218",
   "metadata": {},
   "outputs": [
    {
     "ename": "ModuleNotFoundError",
     "evalue": "No module named 'deepseek'",
     "output_type": "error",
     "traceback": [
      "\u001b[0;31m---------------------------------------------------------------------------\u001b[0m",
      "\u001b[0;31mModuleNotFoundError\u001b[0m                       Traceback (most recent call last)",
      "Cell \u001b[0;32mIn[29], line 8\u001b[0m\n\u001b[1;32m      6\u001b[0m \u001b[38;5;28;01mimport\u001b[39;00m\u001b[38;5;250m \u001b[39m\u001b[38;5;21;01mtempfile\u001b[39;00m\n\u001b[1;32m      7\u001b[0m \u001b[38;5;28;01mimport\u001b[39;00m\u001b[38;5;250m \u001b[39m\u001b[38;5;21;01mos\u001b[39;00m\n\u001b[0;32m----> 8\u001b[0m \u001b[38;5;28;01mimport\u001b[39;00m\u001b[38;5;250m \u001b[39m\u001b[38;5;21;01mdeepseek\u001b[39;00m\n\u001b[1;32m      9\u001b[0m \u001b[38;5;28;01mfrom\u001b[39;00m\u001b[38;5;250m \u001b[39m\u001b[38;5;21;01mdocx\u001b[39;00m\u001b[38;5;250m \u001b[39m\u001b[38;5;28;01mimport\u001b[39;00m Document\n\u001b[1;32m     10\u001b[0m \u001b[38;5;28;01mfrom\u001b[39;00m\u001b[38;5;250m \u001b[39m\u001b[38;5;21;01mfpdf\u001b[39;00m\u001b[38;5;250m \u001b[39m\u001b[38;5;28;01mimport\u001b[39;00m FPDF\n",
      "\u001b[0;31mModuleNotFoundError\u001b[0m: No module named 'deepseek'"
     ]
    }
   ],
   "source": [
    "import gradio as gr\n",
    "import openai\n",
    "from PyPDF2 import PdfReader\n",
    "from PIL import Image\n",
    "import pytesseract\n",
    "import tempfile\n",
    "import os\n",
    "from docx import Document\n",
    "from fpdf import FPDF\n",
    "from dotenv import load_dotenv\n",
    "from openai import OpenAI"
   ]
  },
  {
   "cell_type": "code",
   "execution_count": 31,
   "id": "25f2ea4c-123c-4d39-b264-626e7745511f",
   "metadata": {},
   "outputs": [
    {
     "name": "stdout",
     "output_type": "stream",
     "text": [
      "OpenAI API Key exists and begins sk-proj-\n",
      "Deepseek API Key exists and begins sk-815b\n"
     ]
    }
   ],
   "source": [
    "load_dotenv()\n",
    "openai_api_key = os.getenv('OPENAI_API_KEY')\n",
    "deepseek_api_key = os.getenv('DEEPSEEK_API_KEY')\n",
    "\n",
    "if openai_api_key:\n",
    "    print(f\"OpenAI API Key exists and begins {openai_api_key[:8]}\")\n",
    "else:\n",
    "    print(\"OpenAI API Key not set\")\n",
    "\n",
    "if deepseek_api_key:\n",
    "    print(f\"Deepseek API Key exists and begins {deepseek_api_key[:7]}\")\n",
    "else:\n",
    "    print(\"Deepseek API Key not set\")\n",
    "\n",
    "\n",
    "openai = OpenAI()\n",
    "\n",
    "deepseek = OpenAI(\n",
    "    base_url=\"https://api.deepseek.com/v1\",  # Verify endpoint\n",
    "    api_key=deepseek_api_key\n",
    ")"
   ]
  },
  {
   "cell_type": "code",
   "execution_count": 12,
   "id": "5a275b76-d6f6-4f2d-9145-7f78c5a002ac",
   "metadata": {},
   "outputs": [],
   "source": [
    "def extract_text_from_pdf(pdf_file):\n",
    "    \"\"\"\n",
    "    Extracts text from PDF files using PyPDF2 and OCR for image-based PDFs.\n",
    "    \"\"\"\n",
    "    text = \"\"\n",
    "    with tempfile.TemporaryDirectory() as temp_dir:\n",
    "        # Use the file path directly\n",
    "        pdf_path = pdf_file.name\n",
    "\n",
    "        # Read PDF with PyPDF2\n",
    "        reader = PdfReader(pdf_path)\n",
    "        for page in reader.pages:\n",
    "            if page.extract_text():\n",
    "                text += page.extract_text()\n",
    "            else:\n",
    "                # If no text is found, use OCR\n",
    "                images = convert_pdf_to_images(pdf_path)\n",
    "                for img in images:\n",
    "                    text += pytesseract.image_to_string(img)\n",
    "\n",
    "    return text.strip()\n"
   ]
  },
  {
   "cell_type": "code",
   "execution_count": 13,
   "id": "63f24a99-38ff-435f-862c-64ce17490f7a",
   "metadata": {},
   "outputs": [],
   "source": [
    "def convert_pdf_to_images(pdf_path):\n",
    "    \"\"\"\n",
    "    Converts each page of a PDF into an image using PIL.\n",
    "    \"\"\"\n",
    "    from pdf2image import convert_from_path\n",
    "    images = convert_from_path(pdf_path)\n",
    "    return images"
   ]
  },
  {
   "cell_type": "code",
   "execution_count": 14,
   "id": "244d3443-ae27-444c-a928-46b8f038a413",
   "metadata": {},
   "outputs": [],
   "source": [
    "def parse_resume_with_openai(resume_text):\n",
    "    \"\"\"\n",
    "    Sends the extracted resume text to OpenAI for parsing and summarization.\n",
    "    \"\"\"\n",
    "    prompt = (\n",
    "        \"You are an AI assistant specialized in analyzing resumes. Please summarize the following resume, \"\n",
    "        \"extract key details such as name, contact information, skills, experiences, and education:\\n\\n\"\n",
    "        f\"{resume_text}\\n\\n\"\n",
    "        \"Provide the summary in JSON format with the keys: name, contact, skills, experiences, education.\"\n",
    "    )\n",
    "\n",
    "    \n",
    "    response = openai.chat.completions.create(\n",
    "        model=\"gpt-4o-mini\",\n",
    "        messages=[\n",
    "            {\"role\": \"system\", \"content\": \"You are an AI assistant for resume parsing.\"},\n",
    "            {\"role\": \"user\", \"content\": prompt}\n",
    "        ]\n",
    "    )\n",
    "    return response.choices[0].message.content"
   ]
  },
  {
   "cell_type": "code",
   "execution_count": 15,
   "id": "4758c09c-7ba9-415b-8494-4ce718d6c101",
   "metadata": {},
   "outputs": [],
   "source": [
    "def generate_cover_letter_with_openai(parsed_resume_json, company_name, job_description, notes, tone, name, phone, email):\n",
    "    \"\"\"\n",
    "    Uses OpenAI to generate a cover letter based on the parsed resume JSON, company name, and job description.\n",
    "    \"\"\"\n",
    "    prompt = (\n",
    "        \"You are an AI assistant specialized in writing cover letters. Based on the following parsed resume JSON, \"\n",
    "        \"create a professional cover letter that highlights the candidate's skills and experiences, and \"\n",
    "        \"explains why they are a great fit for the following job opportunity:\\n\\n\"\n",
    "        f\"Parsed Resume: {parsed_resume_json}\"\n",
    "        f\"Name: {name}\"\n",
    "        f\"Phone: {phone}\"\n",
    "        f\"Email: {email}\"\n",
    "        f\"Company Name: {company_name}\\n\"\n",
    "        f\"Job Description: {job_description}\"\n",
    "        f\"Notes: {notes}\"\n",
    "        f\"Tone: {tone}\"\n",
    "        \"Dont include placeholder item such as : [Date] [Company Name] [Company Address] in cover letter generated\"\n",
    "        \"Dont include placeholder item such as : [Date] [Company Name] [Company Address] in cover letter generated\"\n",
    "        \"Dont include placeholder item such as : [Date] [Company Name] [Company Address] in cover letter generated\"\n",
    "        \"The cover letter should be well-structured using user name, email, and phone number as header and tailored to the company and role.\"\n",
    "    )\n",
    "\n",
    "    system_prompt = \"\"\"\n",
    "    You are an AI assistant for writing professional cover letters. Your responses must be enthusiastic, confident, and positive.\\n\n",
    "    Dont include placeholder item such as : [Date] [Company Name] [Company Address] in cover letter generated\n",
    "    \"\"\"\n",
    "    response = openai.chat.completions.create(\n",
    "        model=\"gpt-4o-mini\",\n",
    "        messages=[\n",
    "            {\"role\": \"system\", \"content\": system_prompt},\n",
    "            {\"role\": \"user\", \"content\": prompt}\n",
    "        ]\n",
    "    )\n",
    "    return response.choices[0].message.content"
   ]
  },
  {
   "cell_type": "code",
   "execution_count": 32,
   "id": "eeac9fc6-549b-4944-8bb1-27182bc6b028",
   "metadata": {},
   "outputs": [],
   "source": [
    "def generate_cover_letter_with_deepseek(parsed_resume_json, company_name, job_description, notes, tone, name, phone, email):\n",
    "    \"\"\"\n",
    "    Uses DeepSeek to generate a cover letter based on the parsed resume JSON, company name, and job description.\n",
    "    \"\"\"\n",
    "    prompt = (\n",
    "        \"You are an AI assistant specialized in writing cover letters. Based on the following parsed resume JSON, \"\n",
    "        \"create a professional cover letter that highlights the candidate's skills and experiences, and \"\n",
    "        \"explains why they are a great fit for the following job opportunity:\\n\\n\"\n",
    "        f\"Parsed Resume: {parsed_resume_json}\"\n",
    "        f\"Name: {name}\"\n",
    "        f\"Phone: {phone}\"\n",
    "        f\"Email: {email}\"\n",
    "        f\"Company Name: {company_name}\\n\"\n",
    "        f\"Job Description: {job_description}\"\n",
    "        f\"Notes: {notes}\"\n",
    "        f\"Tone: {tone}\"\n",
    "        \"Do not include placeholder items such as: [Date], [Company Name], or [Company Address] in the generated cover letter. \"\n",
    "        \"The cover letter should be well-structured using the user's name, email, and phone number as the header, \"\n",
    "        \"and tailored to the company and role.\"\n",
    "    )\n",
    "\n",
    "    system_prompt = \"\"\"\n",
    "    You are an AI assistant for writing professional cover letters. Your responses must be enthusiastic, confident, and positive.\n",
    "    Never include placeholder items like [Date], [Company Name], or [Company Address] in the generated content.\n",
    "    \"\"\"\n",
    "\n",
    "    response = deepseek.chat.completions.create(\n",
    "        model=\"deepseek-chat\",  # Check latest model name in DeepSeek docs\n",
    "        messages=[\n",
    "            {\"role\": \"system\", \"content\": system_prompt},\n",
    "            {\"role\": \"user\", \"content\": prompt}\n",
    "        ],\n",
    "        temperature=0.7,\n",
    "        max_tokens=1000\n",
    "    )\n",
    "    \n",
    "    return response.choices[0].message.content"
   ]
  },
  {
   "cell_type": "code",
   "execution_count": 24,
   "id": "a9374b34-78f3-470c-ab24-6ba4bcccedd5",
   "metadata": {},
   "outputs": [],
   "source": [
    "def process_resume_and_cover_letter(pdf_file, company_name, job_description, notes, tone, name, phone, email):\n",
    "    \"\"\"\n",
    "    Combines all steps: Extract text from PDF, parse using OpenAI, generate a cover letter, and return the cover letter.\n",
    "    \"\"\"\n",
    "    extracted_text = extract_text_from_pdf(pdf_file)\n",
    "    parsed_resume = parse_resume_with_openai(extracted_text)\n",
    "    cover_letter = generate_cover_letter_with_deepseek(parsed_resume, company_name, job_description, notes, tone, name, phone, email)\n",
    "    return cover_letter"
   ]
  },
  {
   "cell_type": "code",
   "execution_count": 34,
   "id": "98b17fd4-c075-4427-9e68-942f74041a57",
   "metadata": {},
   "outputs": [],
   "source": [
    "def save_cover_letter_as_docx(cover_letter, name, company_name):\n",
    "    \"\"\"\n",
    "    Save the cover letter as a .docx file.\n",
    "    \"\"\"\n",
    "    file_name = f\"Cover Letter {name} for {company_name}.docx\"\n",
    "    file_path = os.path.join(tempfile.gettempdir(), file_name)\n",
    "    doc = Document()\n",
    "    doc.add_paragraph(cover_letter)\n",
    "    doc.save(file_path)\n",
    "    return file_path\n",
    "\n",
    "def save_cover_letter_as_pdf(cover_letter, name, company_name):\n",
    "    \"\"\"\n",
    "    Save the cover letter as a .pdf file using DejaVu Sans for Unicode compatibility.\n",
    "    \"\"\"\n",
    "    file_name = f\"Cover Letter {name} for {company_name}.pdf\"\n",
    "    file_path = os.path.join(tempfile.gettempdir(), file_name)\n",
    "\n",
    "    # Use current working directory for the font path\n",
    "    base_dir = os.getcwd()  # Directory of the current working environment\n",
    "    font_path = os.path.join(base_dir, \"../fonts/DejaVuSans.ttf\")\n",
    "\n",
    "    # Ensure the font file exists\n",
    "    if not os.path.exists(font_path):\n",
    "        raise RuntimeError(f\"Font file not found: {font_path}\")\n",
    "\n",
    "    # Initialize FPDF\n",
    "    pdf = FPDF(format=\"A4\", unit=\"mm\")\n",
    "    pdf.add_page()\n",
    "    pdf.set_auto_page_break(auto=True, margin=15)\n",
    "\n",
    "    # Add and set the Unicode-compatible font\n",
    "    pdf.add_font(\"DejaVu\", \"\", font_path)\n",
    "    pdf.set_font(\"DejaVu\", size=12)\n",
    "\n",
    "    # Add the cover letter content\n",
    "    for paragraph in cover_letter.split(\"\\n\\n\"):\n",
    "        pdf.multi_cell(0, 10, text=paragraph, border=0, align=\"L\")\n",
    "        pdf.ln(5)  # Add spacing between paragraphs\n",
    "\n",
    "    pdf.output(file_path)\n",
    "    return file_path"
   ]
  },
  {
   "cell_type": "code",
   "execution_count": 35,
   "id": "c438932d-3fa0-426d-a4e8-79d3dde8fbbd",
   "metadata": {},
   "outputs": [
    {
     "name": "stdout",
     "output_type": "stream",
     "text": [
      "* Running on local URL:  http://127.0.0.1:7865\n",
      "* Running on public URL: https://fde1eb0537c515f2ac.gradio.live\n",
      "\n",
      "This share link expires in 72 hours. For free permanent hosting and GPU upgrades, run `gradio deploy` from the terminal in the working directory to deploy to Hugging Face Spaces (https://huggingface.co/spaces)\n"
     ]
    },
    {
     "data": {
      "text/html": [
       "<div><iframe src=\"https://fde1eb0537c515f2ac.gradio.live\" width=\"100%\" height=\"500\" allow=\"autoplay; camera; microphone; clipboard-read; clipboard-write;\" frameborder=\"0\" allowfullscreen></iframe></div>"
      ],
      "text/plain": [
       "<IPython.core.display.HTML object>"
      ]
     },
     "metadata": {},
     "output_type": "display_data"
    },
    {
     "data": {
      "text/plain": []
     },
     "execution_count": 35,
     "metadata": {},
     "output_type": "execute_result"
    }
   ],
   "source": [
    "# Gradio interface\n",
    "with gr.Blocks() as demo:\n",
    "    gr.Markdown(\"# Cover Letter Generator with Download Options\")\n",
    "\n",
    "    with gr.Row():\n",
    "        with gr.Column():\n",
    "            pdf_input = gr.File(label=\"Upload PDF Resume\", file_types=[\".pdf\"])\n",
    "            name_input = gr.Textbox(label=\"Full Name\", placeholder=\"Enter your full name\", lines=1)\n",
    "            phone_input = gr.Textbox(label=\"Phone Number\", placeholder=\"Enter your phone number\", lines=1)\n",
    "            email_input = gr.Textbox(label=\"Email Address\", placeholder=\"Enter your email address\", lines=1)\n",
    "            company_name_input = gr.Textbox(label=\"Company Name\", placeholder=\"Enter the company name\", lines=1)\n",
    "            job_description_input = gr.Textbox(label=\"Job Description\", placeholder=\"Enter the job description\", lines=5)\n",
    "            notes_input = gr.Textbox(label=\"Notes (Optional)\", placeholder=\"Highlight specific skills or expertise\", lines=3)\n",
    "            tone_input = gr.Dropdown(label=\"Tone\", choices=[\"Super Formal\", \"Semi-Formal\", \"Normal (Formal)\", \"Humble\"], value=\"Normal (Formal)\")\n",
    "\n",
    "        with gr.Column():\n",
    "            cover_letter_output = gr.Textbox(label=\"Generated Cover Letter\", lines=15)\n",
    "            docx_download_btn = gr.File(label=\"Download as DOCX\")\n",
    "            pdf_download_btn = gr.File(label=\"Download as PDF\")\n",
    "\n",
    "    \n",
    "    # Function to handle cover letter generation and file creation\n",
    "    def generate_and_save_cover_letter(pdf_file, company_name, job_description, notes, tone, name, phone, email):\n",
    "        cover_letter = process_resume_and_cover_letter(pdf_file, company_name, job_description, notes, tone, name, phone, email)\n",
    "        docx_path = save_cover_letter_as_docx(cover_letter, name, company_name)\n",
    "        pdf_path = save_cover_letter_as_pdf(cover_letter, name, company_name)\n",
    "        return cover_letter, docx_path, pdf_path\n",
    "\n",
    "    # Button click to generate cover letter and enable downloads\n",
    "    submit_btn = gr.Button(\"Generate Cover Letter\")\n",
    "    submit_btn.click(\n",
    "        generate_and_save_cover_letter,\n",
    "        inputs=[pdf_input, company_name_input, job_description_input, notes_input, tone_input, name_input, phone_input, email_input],\n",
    "        outputs=[cover_letter_output, docx_download_btn, pdf_download_btn]\n",
    "    )\n",
    "\n",
    "# Launch the Gradio app\n",
    "demo.launch(share = True)"
   ]
  },
  {
   "cell_type": "code",
   "execution_count": null,
   "id": "0ed9a1e6-254f-4dcc-b226-86c60dc3d88f",
   "metadata": {},
   "outputs": [],
   "source": []
  }
 ],
 "metadata": {
  "kernelspec": {
   "display_name": "Python 3 (ipykernel)",
   "language": "python",
   "name": "python3"
  },
  "language_info": {
   "codemirror_mode": {
    "name": "ipython",
    "version": 3
   },
   "file_extension": ".py",
   "mimetype": "text/x-python",
   "name": "python",
   "nbconvert_exporter": "python",
   "pygments_lexer": "ipython3",
   "version": "3.11.11"
  }
 },
 "nbformat": 4,
 "nbformat_minor": 5
}
